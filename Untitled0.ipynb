{
  "cells": [
    {
      "cell_type": "markdown",
      "metadata": {
        "id": "view-in-github",
        "colab_type": "text"
      },
      "source": [
        "<a href=\"https://colab.research.google.com/github/youto0910/hhh/blob/master/Untitled0.ipynb\" target=\"_parent\"><img src=\"https://colab.research.google.com/assets/colab-badge.svg\" alt=\"Open In Colab\"/></a>"
      ]
    },
    {
      "cell_type": "code",
      "execution_count": null,
      "metadata": {
        "colab": {
          "base_uri": "https://localhost:8080/",
          "height": 224
        },
        "id": "bj-CzdYa-eGg",
        "outputId": "d8867940-a3ac-48bc-b2ce-5cd1f3c6a691"
      },
      "outputs": [
        {
          "data": {
            "image/png": "[encoded data removed]",
            "text/plain": [
              "<Figure size 432x288 with 1 Axes>"
            ]
          },
          "metadata": {},
          "output_type": "display_data"
        }
      ],
      "source": [
        "import math\n",
        "import random\n",
        "import matplotlib.pyplot as pl\n",
        "X=[]\n",
        "A=[]\n",
        "B=[]\n",
        "C=[]\n",
        "Y=[]\n",
        "fig, ax = pl.subplots()\n",
        "for i in range(1,30):\n",
        " a=105+495/(i+random.random()*(i-1)/5)\n",
        " b=105-55/(i+random.random()*(i-1)/5)\n",
        " c=random.uniform(b,a)\n",
        " A.append(a)\n",
        " B.append(b)\n",
        " C.append(c)\n",
        " Y.append(i)\n",
        "pl.plot(Y,A)\n",
        "pl.plot(Y,B)\n",
        "pl.plot(Y,C)\n",
        "pl.ylim(-1,610)\n",
        "pl.show()"
      ]
    },
    {
      "cell_type": "code",
      "execution_count": null,
      "metadata": {
        "colab": {
          "base_uri": "https://localhost:8080/",
          "height": 186
        },
        "id": "nL0TlHX3v1ri",
        "outputId": "5bb50e29-68f3-4901-c8bc-993a21d93f32"
      },
      "outputs": [
        {
          "output_type": "stream",
          "name": "stdout",
          "text": [
            "2.9 33.80589480726814\n"
          ]
        },
        {
          "output_type": "execute_result",
          "data": {
            "text/plain": [
              "<function matplotlib.pyplot.show(*args, **kw)>"
            ]
          },
          "metadata": {},
          "execution_count": 34
        },
        {
          "output_type": "display_data",
          "data": {
            "text/plain": [
              "<Figure size 432x288 with 1 Axes>"
            ],
            "image/png": "[encoded data removed]"
          },
          "metadata": {
            "needs_background": "light"
          }
        }
      ],
      "source": [
        "import math\n",
        "import numpy as np\n",
        "import matplotlib.pyplot as pl\n",
        "pow=0.01\n",
        "m=1\n",
        "ve=20  *pow #速度\n",
        "wx=0 *pow #風の速度\n",
        "se=48 #角度(deg)\n",
        "k=0.1 #空気抵抗\n",
        "g=9.8  *pow\n",
        "x=0\n",
        "y=0\n",
        "v0x=ve*math.cos(math.radians(se))\n",
        "v0y=ve*math.sin(math.radians(se))\n",
        "v0z=ve*math.cos(math.radians(se))\n",
        "X=[0]\n",
        "Y=[0]\n",
        "for i in range(20000):\n",
        " t=i   *pow\n",
        " vx=(wx+v0x)*math.e**(-k*t)+wx\n",
        " vy=-g/k+math.e**(-k*t)*(v0y+g/k)\n",
        " x=vx+x\n",
        " y=vy+y\n",
        " #x=(v0x/k)*(1-math.e**(-k*t))\n",
        " #y=-g*t/k+(v0y+g/k)*(1-math.e**(-k*t))/k\n",
        " X.append(x)\n",
        " Y.append(y)\n",
        " if y <0:\n",
        "   break\n",
        "print(t,x)\n",
        "g=pl.subplot()\n",
        "pl.scatter(X,Y)\n",
        "g.set_aspect('equal')\n",
        "pl.show"
      ]
    },
    {
      "cell_type": "code",
      "source": [
        "import math\n",
        "import matplotlib.pyplot as pl\n",
        "\n",
        "# 物体の質量 (kg)\n",
        "mass = 1.0\n",
        "\n",
        "# 初期速度 (m/s)\n",
        "v0 = 10.0\n",
        "\n",
        "# 角度 (rad)\n",
        "angle = math.pi / 4\n",
        "\n",
        "# 重力加速度 (m/s^2)\n",
        "g = 9.81\n",
        "\n",
        "# 空気抵抗係数\n",
        "drag_coefficient = 0.5\n",
        "\n",
        "# 風速 (m/s)\n",
        "wind_speed = 0.0\n",
        "\n",
        "# 初期位置 (m)\n",
        "x0 = 0.0\n",
        "y0 = 0.0\n",
        "\n",
        "# 初期速度のx成分 (m/s)\n",
        "vx0 = v0 * math.cos(angle)\n",
        "\n",
        "# 初期速度のy成分 (m/s)\n",
        "vy0 = v0 * math.sin(angle)\n",
        "\n",
        "# 時間刻み幅 (s)\n",
        "dt = 0.01\n",
        "\n",
        "# 時間のリスト\n",
        "t_list = []\n",
        "\n",
        "# x座標のリスト\n",
        "x_list = []\n",
        "\n",
        "# y座標のリスト\n",
        "y_list = []\n",
        "\n",
        "# 速度のリスト\n",
        "v_list = []\n",
        "\n",
        "# 加速度のリスト\n",
        "a_list = []\n",
        "\n",
        "# 時間を0から10秒まで0.01秒ごとに計算\n",
        "for t in range(1001):\n",
        "    t_list.append(t * dt)\n",
        "    x = x0 + vx0 * t * dt\n",
        "    y = y0 + vy0 * t * dt - 0.5 * g * t * t * dt * dt\n",
        "    vx = vx0 - drag_coefficient * vx0 * t * dt - wind_speed\n",
        "    vy = vy0 - g * t * dt - drag_coefficient * vy0 * t * dt\n",
        "    v = math.sqrt(vx * vx + vy * vy)\n",
        "    a = g - drag_coefficient * v / mass\n",
        "    x_list.append(x)\n",
        "    y_list.append(y)\n",
        "    v_list.append(v)\n",
        "    a_list.append(a)\n",
        "    if y <0:\n",
        "      break\n",
        "\n",
        "# 結果を表示\n",
        "g=pl.subplot()\n",
        "\n",
        "print(\"t [s]\\tx [m]\\ty [m]\\tv [m/s]\\ta [m/s^2]\")\n",
        "pl.plot(x_list,y_list)\n",
        "g.set_aspect('equal')"
      ],
      "metadata": {
        "colab": {
          "base_uri": "https://localhost:8080/",
          "height": 155
        },
        "id": "Exs0CKTiSsy6",
        "outputId": "94e7a472-c2c8-4fab-9f7a-700a38eded7a"
      },
      "execution_count": null,
      "outputs": [
        {
          "output_type": "stream",
          "name": "stdout",
          "text": [
            "t [s]\tx [m]\ty [m]\tv [m/s]\ta [m/s^2]\n"
          ]
        },
        {
          "output_type": "display_data",
          "data": {
            "text/plain": [
              "<Figure size 432x288 with 1 Axes>"
            ],
            "image/png": "[encoded data removed]"
          },
          "metadata": {
            "needs_background": "light"
          }
        }
      ]
    },
    {
      "cell_type": "code",
      "source": [
        "import math\n",
        "# 初速度 [m/s]\n",
        "v = 10\n",
        "# 角度 [rad]\n",
        "seta = 45\n",
        "# 抵抗係数 [kg/s]\n",
        "k = 0.1\n",
        "# 質量 [kg]\n",
        "m = 100\n",
        "# 風の速度 [m/s]\n",
        "w = 10\n",
        "# 時間の増分 [s]\n",
        "dt = 0.1\n",
        "# 重力加速度 [m/s^2]\n",
        "g = 9.8\n",
        "\n",
        "# 物体の位置\n",
        "x = 0\n",
        "y = 0\n",
        "\n",
        "# 物体の速度\n",
        "v_x = v * math.cos(seta)\n",
        "v_y = v * math.sin(seta)\n",
        "\n",
        "while y >= 0:\n",
        "    # 物体の位置を更新\n",
        "    x = x + v_x * dt\n",
        "    y = y + v_y * dt\n",
        "    # 物体の速度を更新\n",
        "    dv_x = -(k/m) * v_x + w * math.cos(seta)\n",
        "    dv_y = -g - (k/m) * v_y + w * math.sin(seta)\n",
        "    v_x = v_x + dv_x * dt\n",
        "    v_y = v_y + dv_y * dt\n",
        "print(x,y)"
      ],
      "metadata": {
        "colab": {
          "base_uri": "https://localhost:8080/"
        },
        "id": "RZZyIvvCgMm8",
        "outputId": "adda3612-e56f-4b53-ac74-f65eaae99550"
      },
      "execution_count": null,
      "outputs": [
        {
          "output_type": "stream",
          "name": "stdout",
          "text": [
            "528.5292823378788 -0.40115905892088555\n"
          ]
        }
      ]
    },
    {
      "cell_type": "code",
      "execution_count": null,
      "metadata": {
        "colab": {
          "base_uri": "https://localhost:8080/",
          "height": 241
        },
        "id": "FnDUlSVo1I0b",
        "outputId": "4af081c5-e8a4-40b4-fa85-5fb6132ea1b1"
      },
      "outputs": [
        {
          "output_type": "stream",
          "name": "stdout",
          "text": [
            "1.0878861746347709e+83\n"
          ]
        },
        {
          "output_type": "display_data",
          "data": {
            "text/plain": [
              "<Figure size 432x288 with 1 Axes>"
            ],
            "image/png": "[encoded data removed]"
          },
          "metadata": {
            "needs_background": "light"
          }
        }
      ],
      "source": [
        "import matplotlib.pyplot as plt\n",
        "import math\n",
        "A=[]\n",
        "B=[]\n",
        "a=(1+math.sqrt(5))/2\n",
        "b=(math.sqrt(5)-1)/2\n",
        "x=-5\n",
        "for f in range(-500,400):\n",
        "  i=f\n",
        "  x=(a**i-b**i*math.cos(math.pi*i))/math.sqrt(5)\n",
        "  y=-(b**i*math.sin(math.pi*i))/math.sqrt(5)\n",
        "  A.append(x)\n",
        "  B.append(i)\n",
        "print(x)\n",
        "\n",
        "plt.scatter(B,A ,color=\"red\")\n",
        "#plt.plot(B,A)\n",
        "plt.xlim(-7,35)\n",
        "plt.ylim(-12,60)\n",
        "plt.show()"
      ]
    },
    {
      "cell_type": "code",
      "execution_count": null,
      "metadata": {
        "colab": {
          "base_uri": "https://localhost:8080/"
        },
        "id": "vv-OS-m-K90B",
        "outputId": "b5705991-3291-48c3-b398-22bd627e9245"
      },
      "outputs": [
        {
          "output_type": "stream",
          "name": "stdout",
          "text": [
            "9973\n"
          ]
        }
      ],
      "source": [
        "num=[]\n",
        "for count in range(2,10000):\n",
        " req=0\n",
        " for temp in range(0,len(num)-1):\n",
        "   if count % num[temp] == 0:\n",
        "     req=req+1\n",
        " if req == 0:\n",
        "    num.append(count)\n",
        "print(num[-1])\n",
        "\n"
      ]
    },
    {
      "cell_type": "code",
      "execution_count": null,
      "metadata": {
        "colab": {
          "base_uri": "https://localhost:8080/",
          "height": 258
        },
        "id": "yz734Kvtl54j",
        "outputId": "44a546fa-1a48-4b91-908f-8a5c054373a7"
      },
      "outputs": [
        {
          "output_type": "execute_result",
          "data": {
            "text/plain": [
              "<function matplotlib.pyplot.show(*args, **kw)>"
            ]
          },
          "metadata": {},
          "execution_count": 1
        },
        {
          "output_type": "display_data",
          "data": {
            "text/plain": [
              "<Figure size 432x288 with 1 Axes>"
            ],
            "image/png": "[encoded data removed]"
          },
          "metadata": {
            "needs_background": "light"
          }
        }
      ],
      "source": [
        "import matplotlib.pyplot as pl\n",
        "import math\n",
        "time = 20 #最終時間\n",
        "mach = 2 #マッハ数\n",
        "cir = 720 #円の細さ(点の数)\n",
        "\n",
        "X=[]\n",
        "Y=[]\n",
        "for i in range(0,time):\n",
        " r = 1 / mach * i\n",
        " for seta in range(1,cir):\n",
        "  x = r * math.cos(math.pi*seta/cir*2) + time - i\n",
        "  y = r * math.sin(math.pi*seta/cir*2)\n",
        "  X.append(x)\n",
        "  Y.append(y)\n",
        "g=pl.subplot()\n",
        "pl.scatter(X,Y,s=1)\n",
        "g.set_aspect('equal')\n",
        "pl.show"
      ]
    },
    {
      "cell_type": "code",
      "execution_count": null,
      "metadata": {
        "id": "59GJmfz83zCR",
        "colab": {
          "base_uri": "https://localhost:8080/",
          "height": 319
        },
        "outputId": "c2330a6c-3b52-42ed-bafe-e7c10ba0f1be"
      },
      "outputs": [
        {
          "output_type": "stream",
          "name": "stdout",
          "text": [
            "14.64 秒  0.0 m(水平)  1000.0 m(垂直)\n"
          ]
        },
        {
          "output_type": "execute_result",
          "data": {
            "text/plain": [
              "<function matplotlib.pyplot.show(*args, **kw)>"
            ]
          },
          "metadata": {},
          "execution_count": 103
        },
        {
          "output_type": "display_data",
          "data": {
            "text/plain": [
              "<Figure size 432x288 with 1 Axes>"
            ],
            "image/png": "[encoded data removed]"
          },
          "metadata": {
            "needs_background": "light"
          }
        }
      ],
      "source": [
        "import math\n",
        "import numpy as np\n",
        "import matplotlib.pyplot as pl\n",
        "m=10\n",
        "ve=0 #速度\n",
        "wx=0 #風の速度\n",
        "se=10 #角度(deg)\n",
        "k=0.1 #空気抵抗\n",
        "g=9.8\n",
        "x0=0\n",
        "y0=1000\n",
        "tempy=0\n",
        "v0x=ve*math.cos(math.radians(se))\n",
        "v0y=ve*math.sin(math.radians(se))\n",
        "X=[x0]\n",
        "Y=[y0]\n",
        "for i in range(20000):\n",
        " y=tempy\n",
        " t=i   *0.01\n",
        " x=m/k*(v0x+wx)*(1-math.e**(-k/m*t))+x0\n",
        " y=(m/k*(v0y+m*g/k)*(1-math.e**(-k/m*t))-m*g*t/k)+y0\n",
        " X.append(x)\n",
        " Y.append(y)\n",
        " if tempy <= y:\n",
        "   tempy=y\n",
        " if y <0:\n",
        "   break\n",
        "print(t,\"秒 \",x,\"m(水平) \",tempy,\"m(垂直)\")\n",
        "g=pl.subplot()\n",
        "pl.scatter(X,Y)\n",
        "g.set_aspect('equal')\n",
        "pl.show"
      ]
    }
  ],
  "metadata": {
    "colab": {
      "provenance": [],
      "authorship_tag": "ABX9TyMSxGUlyg0atawe/FnLcjlW",
      "include_colab_link": true
    },
    "kernelspec": {
      "display_name": "Python 3",
      "name": "python3"
    },
    "language_info": {
      "name": "python"
    }
  },
  "nbformat": 4,
  "nbformat_minor": 0
}